{
 "cells": [
  {
   "cell_type": "markdown",
   "metadata": {},
   "source": [
    "# Korean Maritime Safety Tribunal Vessel Name Matching\n",
    "\n",
    "This notebook implements fuzzy string matching to identify Korean vessels across different datasets. It:\n",
    "\n",
    "1. Loads vessel name data from extracted vessel names and Korean vessels datasets\n",
    "2. Implements helper functions to:\n",
    "   - Remove digits from vessel names\n",
    "   - Perform fuzzy matching using token set ratio comparison\n",
    "3. Uses two-stage matching:\n",
    "   - First compares alphabetic-only parts of names\n",
    "   - Then compares full vessel names if alpha parts match\n",
    "4. Allows configurable matching thresholds for both stages\n",
    "\n",
    "The goal is to reliably match vessel names despite minor differences in formatting and numbering.\n"
   ]
  },
  {
   "cell_type": "code",
   "execution_count": 1,
   "metadata": {},
   "outputs": [],
   "source": [
    "import pandas as pd\n",
    "from rapidfuzz import fuzz\n",
    "import re"
   ]
  },
  {
   "cell_type": "code",
   "execution_count": 2,
   "metadata": {},
   "outputs": [],
   "source": [
    "vessel_names_df = pd.read_csv('../data/extracted_vessel_names.csv')\n",
    "korean_vessels_df = pd.read_csv('../data/Korean-vessels-for-infraction-scraping-02-18-25.csv')"
   ]
  },
  {
   "cell_type": "code",
   "execution_count": 3,
   "metadata": {},
   "outputs": [],
   "source": [
    "def remove_digits(text):\n",
    "    \"\"\"Remove digits from a string.\"\"\"\n",
    "    return re.sub(r'\\d+', '', text)"
   ]
  },
  {
   "cell_type": "code",
   "execution_count": 4,
   "metadata": {},
   "outputs": [],
   "source": [
    "def fuzzy_name_match(name_a, name_b, alpha_threshold=80, full_threshold=70):\n",
    "    \"\"\"\n",
    "    Returns True if the alphabetic parts of the two strings match above alpha_threshold,\n",
    "    and the full strings match above full_threshold.\n",
    "    Adjust thresholds as needed.\n",
    "    \"\"\"\n",
    "    # Convert to lowercase for consistency\n",
    "    a_lower = name_a.lower()\n",
    "    b_lower = name_b.lower()\n",
    "    \n",
    "    # Compare alphabetic-only parts\n",
    "    a_alpha = remove_digits(a_lower)\n",
    "    b_alpha = remove_digits(b_lower)\n",
    "    alpha_ratio = fuzz.token_set_ratio(a_alpha, b_alpha)\n",
    "    \n",
    "    if alpha_ratio < alpha_threshold:\n",
    "        # Alphabetic parts aren't similar enough, skip\n",
    "        return False\n",
    "    \n",
    "    # If the alpha parts match strongly, then check full string\n",
    "    full_ratio = fuzz.token_set_ratio(a_lower, b_lower)\n",
    "    return full_ratio >= full_threshold"
   ]
  },
  {
   "cell_type": "code",
   "execution_count": 5,
   "metadata": {},
   "outputs": [],
   "source": [
    "def check_vessel_name(vessel_name):\n",
    "    \"\"\"\n",
    "    For each name in the extracted list, see if there's a fuzzy match \n",
    "    that meets both alpha-only and full-string thresholds.\n",
    "    \"\"\"\n",
    "    for extracted_name in vessel_names:\n",
    "        if fuzzy_name_match(extracted_name, vessel_name):\n",
    "            return True\n",
    "    return False"
   ]
  },
  {
   "cell_type": "code",
   "execution_count": 7,
   "metadata": {},
   "outputs": [],
   "source": [
    "vessel_names = vessel_names_df.iloc[0].tolist()\n",
    "\n",
    "korean_vessels_df['Match_Found'] = korean_vessels_df['Vessel Name'].apply(check_vessel_name)\n",
    "matched_vessels = korean_vessels_df[korean_vessels_df['Match_Found']]"
   ]
  },
  {
   "cell_type": "code",
   "execution_count": 8,
   "metadata": {},
   "outputs": [
    {
     "data": {
      "text/html": [
       "<div>\n",
       "<style scoped>\n",
       "    .dataframe tbody tr th:only-of-type {\n",
       "        vertical-align: middle;\n",
       "    }\n",
       "\n",
       "    .dataframe tbody tr th {\n",
       "        vertical-align: top;\n",
       "    }\n",
       "\n",
       "    .dataframe thead th {\n",
       "        text-align: right;\n",
       "    }\n",
       "</style>\n",
       "<table border=\"1\" class=\"dataframe\">\n",
       "  <thead>\n",
       "    <tr style=\"text-align: right;\">\n",
       "      <th></th>\n",
       "      <th>MMSI</th>\n",
       "      <th>Vessel Name</th>\n",
       "      <th>IMO Number</th>\n",
       "      <th>Flag</th>\n",
       "      <th>Call Sign</th>\n",
       "      <th>length_m</th>\n",
       "      <th>Vessel Type / Fishing Method</th>\n",
       "      <th>registry code</th>\n",
       "      <th>Port of Registry</th>\n",
       "      <th>Owner Name</th>\n",
       "      <th>...</th>\n",
       "      <th>North Pacific Fisheries Commission IUU Listing Reason</th>\n",
       "      <th>Southern Indian Ocean Fisheries Agreement IUU Listing Date</th>\n",
       "      <th>Southern Indian Ocean Fisheries Agreement IUU Listing Reason</th>\n",
       "      <th>IUU Combined List Vessel Link</th>\n",
       "      <th>Friend of the Sea Registration Number</th>\n",
       "      <th>Company authorized to sell the Friend of the Sea certified products</th>\n",
       "      <th>FAO fishing area per Friend of the Sea</th>\n",
       "      <th>Targeted species per Friend of the Sea</th>\n",
       "      <th>Friend of the Sea Certificate Status</th>\n",
       "      <th>Match_Found</th>\n",
       "    </tr>\n",
       "  </thead>\n",
       "  <tbody>\n",
       "  </tbody>\n",
       "</table>\n",
       "<p>0 rows × 112 columns</p>\n",
       "</div>"
      ],
      "text/plain": [
       "Empty DataFrame\n",
       "Columns: [MMSI, Vessel Name, IMO Number, Flag, Call Sign, length_m, Vessel Type / Fishing Method, registry code, Port of Registry, Owner Name, Owner Address, Operator Name, Operator Address, Authorization Number for The Southeast Atlantic Fisheries Organization, Authorization Start Date for The Southeast Atlantic Fisheries Organization, Authorization End Date for The Southeast Atlantic Fisheries Organization, Vessel Authorization Link for The Southeast Atlantic Fisheries Organization, Date Source Info Last Updated for The Southeast Atlantic Fisheries Organization, Date Source Info Acquired for The Southeast Atlantic Fisheries Organization, Authorization Number for The Northeast Atlantic Fisheries Commission, Authorization Start Date for The Northeast Atlantic Fisheries Commission, Authorization End Date for The Northeast Atlantic Fisheries Commission, Vessel Authorization Link for The Northeast Atlantic Fisheries Commission, Date Source Info Last Updated The for Northeast Atlantic Fisheries Commission, Date Source Info Acquired for The Northeast Atlantic Fisheries Commission, Authorization Number for The Inter-American Tropical Tuna Commission, Authorization Start Date for The Inter-American Tropical Tuna Commission, Authorization End Date for The Inter-American Tropical Tuna Commission, Vessel Authorization Link for The Inter-American Tropical Tuna Commission, Date Source Info Last Updated for The Inter-American Tropical Tuna Commission, Date Source Info Acquired for The Inter-American Tropical Tuna Commission, Authorization Number for The Northwest Atlantic Fisheries Organization, Authorization Start Date for The Northwest Atlantic Fisheries Organization, Authorization End Date for The Northwest Atlantic Fisheries Organization, Vessel Authorization Link for The Northwest Atlantic Fisheries Organization, Date Source Info Last Updated for The Northwest Atlantic Fisheries Organization, Date Source Info Acquired for The Northwest Atlantic Fisheries Organization, Authorization Number for The Indian Ocean Tuna Commission, Authorization Start Date for The Indian Ocean Tuna Commission, Authorization End Date for The Indian Ocean Tuna Commission, Vessel Authorization Link for The Indian Ocean Tuna Commission, Date Source Info Last Updated for The Indian Ocean Tuna Commission, Date Source Info Acquired for The Indian Ocean Tuna Commission, Authorization Number for The Western and Central Pacific Fisheries Commission, Authorization Start Date for The Western and Central Pacific Fisheries Commission, Authorization End Date for The Western and Central Pacific Fisheries Commission, Vessel Authorization Link for The Western and Central Pacific Fisheries Commission, Date Source Info Last Updated for The Western and Central Pacific Fisheries Commission, Date Source Info Acquired for The Western and Central Pacific Fisheries Commission, Authorization Number for The North Pacific Fisheries Commission, Authorization Start Date for The North Pacific Fisheries Commission, Authorization End Date for The North Pacific Fisheries Commission, Vessel Authorization Link for The North Pacific Fisheries Commission, Date Source Info Last Updated for The North Pacific Fisheries Commission, Date Source Info Acquired for The North Pacific Fisheries Commission, Authorization Number for the South Pacific Regional Fisheries Management Organisation, Authorization Start Date for the South Pacific Regional Fisheries Management Organisation, Authorization End Date for the South Pacific Regional Fisheries Management Organisation, Vessel Authorization Link for the South Pacific Regional Fisheries Management Organisation, Date Source Info Last Updated for the South Pacific Regional Fisheries Management Organisation, Date Source Info Acquired for the South Pacific Regional Fisheries Management Organisation, Authorization Number for The International Commission for the Conservation of Atlantic Tunas, Authorization Start Date for The International Commission for the Conservation of Atlantic Tunas, Authorization End Date for The International Commission for the Conservation of Atlantic Tunas, Vessel Authorization Link for The International Commission for the Conservation of Atlantic Tunas, Date Source Info Last Updated for The International Commission for the Conservation of Atlantic Tunas, Date Source Info Acquired for The International Commission for the Conservation of Atlantic Tunas, Authorization Number for The Commission for the Conservation of Antarctic Marine Living Resources, Authorization Start Date for The Commission for the Conservation of Antarctic Marine Living Resources, Authorization End Date for The Commission for the Conservation of Antarctic Marine Living Resources, Vessel Authorization Link for The Commission for the Conservation of Antarctic Marine Living Resources, Date Source Info Last Updated for The Commission for the Conservation of Antarctic Marine Living Resources, Date Source Info Acquired for The Commission for the Conservation of Antarctic Marine Living Resources, Authorization Number for The General Fisheries Commission for the Mediterranean, Authorization Start Date for The General Fisheries Commission for the Mediterranean, Authorization End Date for The General Fisheries Commission for the Mediterranean, Vessel Authorization Link for The General Fisheries Commission for the Mediterranean, Date Source Info Last Updated for The General Fisheries Commission for the Mediterranean, Date Source Info Acquired for The General Fisheries Commission for the Mediterranean, Indian Ocean Tuna Commission IUU Listing Date, Indian Ocean Tuna Commission IUU Listing Reason, International Commission for the Conservation of Atlantic Tunas IUU Listing Date, International Commission for the Conservation of Atlantic Tunas IUU Listing Reason, Inter-American Tropical Tuna Commission IUU Listing Date, Inter-American Tropical Tuna Commission IUU Listing Reason, Commission for the Conservation of Antarctic Marine Living Resources IUU Listing Date, Commission for the Conservation of Antarctic Marine Living Resources IUU Listing Reason, Western and Central Pacific Fisheries Commission IUU Listing Date, Western and Central Pacific Fisheries Commission IUU Listing Reason, Southeast Atlantic Fisheries Organization IUU Listing Date, Southeast Atlantic Fisheries Organization IUU Listing Reason, Northeast Atlantic Fisheries Commission IUU Listing Date, Northeast Atlantic Fisheries Commission IUU Listing Reason, Northwest Atlantic Fisheries Organization IUU Listing Date, Northwest Atlantic Fisheries Organization IUU Listing Reason, South Pacific Regional Fisheries Management Organization IUU Listing Date, South Pacific Regional Fisheries Management Organization IUU Listing Reason, Commission for the Conservation of Southern Bluefin Tuna IUU Listing Date, Commission for the Conservation of Southern Bluefin Tuna IUU Listing Reason, General Fisheries Commission of the Mediterranean IUU Listing Date, ...]\n",
       "Index: []\n",
       "\n",
       "[0 rows x 112 columns]"
      ]
     },
     "execution_count": 8,
     "metadata": {},
     "output_type": "execute_result"
    }
   ],
   "source": [
    "matched_vessels"
   ]
  },
  {
   "cell_type": "code",
   "execution_count": null,
   "metadata": {},
   "outputs": [],
   "source": []
  }
 ],
 "metadata": {
  "kernelspec": {
   "display_name": "korean-infractions",
   "language": "python",
   "name": "python3"
  },
  "language_info": {
   "codemirror_mode": {
    "name": "ipython",
    "version": 3
   },
   "file_extension": ".py",
   "mimetype": "text/x-python",
   "name": "python",
   "nbconvert_exporter": "python",
   "pygments_lexer": "ipython3",
   "version": "3.12.2"
  }
 },
 "nbformat": 4,
 "nbformat_minor": 2
}
